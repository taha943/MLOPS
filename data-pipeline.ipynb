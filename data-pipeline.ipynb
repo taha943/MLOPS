{
 "cells": [
  {
   "cell_type": "markdown",
   "metadata": {},
   "source": [
    " Prepare the Iris Dataset"
   ]
  },
  {
   "cell_type": "code",
   "execution_count": null,
   "metadata": {},
   "outputs": [],
   "source": [
    "import pandas as pd\n",
    "from sklearn.datasets import load_iris\n",
    "from sklearn.model_selection import train_test_split\n",
    "from sklearn.ensemble import RandomForestClassifier\n",
    "from sklearn.metrics import accuracy_score\n",
    "import mlflow\n",
    "import mlflow.sklearn\n",
    "\n",
    "iris = load_iris()\n",
    "X = pd.DataFrame(iris.data, columns=iris.feature_names)\n",
    "y = iris.target\n",
    "\n",
    "X_train, X_test, y_train, y_test = train_test_split(X, y, test_size=0.2, random_state=42)\n"
   ]
  },
  {
   "cell_type": "markdown",
   "metadata": {},
   "source": [
    "Train and save Models with MLflow"
   ]
  },
  {
   "cell_type": "code",
   "execution_count": null,
   "metadata": {},
   "outputs": [
    {
     "name": "stdout",
     "output_type": "stream",
     "text": [
      "Accuracy: 1.0\n"
     ]
    },
    {
     "name": "stderr",
     "output_type": "stream",
     "text": [
      "2024/12/01 16:52:14 WARNING mlflow.models.model: Model logged without a signature and input example. Please set `input_example` parameter when logging the model to auto infer the model signature.\n",
      "Successfully registered model 'IrisClassifier'.\n",
      "2024/12/01 16:52:14 INFO mlflow.store.model_registry.abstract_store: Waiting up to 300 seconds for model version to finish creation. Model name: IrisClassifier, version 1\n"
     ]
    },
    {
     "name": "stdout",
     "output_type": "stream",
     "text": [
      "New best model registered!\n",
      "🏃 View run nervous-tern-180 at: http://localhost:5000/#/experiments/0/runs/453a6cdb21fa4c50b8386be0676422f4\n",
      "🧪 View experiment at: http://localhost:5000/#/experiments/0\n"
     ]
    },
    {
     "name": "stderr",
     "output_type": "stream",
     "text": [
      "Created version '1' of model 'IrisClassifier'.\n"
     ]
    }
   ],
   "source": [
    "mlflow.sklearn.autolog()\n",
    "\n",
    "mlflow.set_tracking_uri('http://localhost:5000') \n",
    "with mlflow.start_run():\n",
    "    model = RandomForestClassifier(n_estimators=100, random_state=42)\n",
    "    model.fit(X_train, y_train)\n",
    "    \n",
    "    y_pred = model.predict(X_test)\n",
    "    accuracy = accuracy_score(y_test, y_pred)\n",
    "    print(f\"Accuracy: {accuracy}\")\n",
    "\n",
    "    mlflow.log_metric(\"accuracy\", accuracy)\n",
    "\n",
    "    best_accuracy = 0.9  \n",
    "    if accuracy > best_accuracy:\n",
    "        mlflow.sklearn.log_model(model, \"model\", registered_model_name=\"IrisClassifier\")\n",
    "\n",
    "        print(\"New best model registered!\")\n",
    "    else:\n",
    "        print(\"Current model did not outperform the best model.\")"
   ]
  },
  {
   "cell_type": "code",
   "execution_count": null,
   "metadata": {},
   "outputs": [],
   "source": [
    "import random\n",
    "mlflow.sklearn.autolog()\n",
    "\n",
    "mlflow.set_tracking_uri('http://localhost:5000')\n",
    "\n",
    "best_accuracy = 0.9  \n",
    "\n",
    "for experiment_num in range(1, 6): \n",
    "    with mlflow.start_run():\n",
    "        accuracy = random.uniform(0.5, 0.7) + (experiment_num * 0.05)  \n",
    "        \n",
    "        model = RandomForestClassifier(n_estimators=100, random_state=42)\n",
    "        model.fit(X_train, y_train)\n",
    "\n",
    "        y_pred = model.predict(X_test)\n",
    "        accuracy = accuracy_score(y_test, y_pred)\n",
    "        print(f\"Experiment {experiment_num} - Accuracy: {accuracy}\")\n",
    "\n",
    "        mlflow.log_metric(\"accuracy\", accuracy)\n",
    "\n",
    "        if accuracy > best_accuracy:\n",
    "            mlflow.sklearn.log_model(model, \"model\", registered_model_name=\"IrisClassifier\")\n",
    "            print(f\"Experiment {experiment_num}: New best model registered with accuracy {accuracy}!\")\n",
    "            best_accuracy = accuracy  \n",
    "        else:\n",
    "            print(f\"Experiment {experiment_num}: Current model did not outperform the best model.\")"
   ]
  },
  {
   "cell_type": "code",
   "execution_count": null,
   "metadata": {},
   "outputs": [
    {
     "name": "stdout",
     "output_type": "stream",
     "text": [
      "MLflow Tracking URI: http://localhost:5000\n"
     ]
    },
    {
     "name": "stderr",
     "output_type": "stream",
     "text": [
      "C:\\Users\\tahaf\\AppData\\Local\\Temp\\ipykernel_33244\\2075413859.py:11: FutureWarning: ``mlflow.tracking.client.MlflowClient.get_latest_versions`` is deprecated since 2.9.0. Model registry stages will be removed in a future major release. To learn more about the deprecation of model registry stages, see our migration guide here: https://mlflow.org/docs/latest/model-registry.html#migrating-from-stages\n",
      "  versions = client.get_latest_versions(model_name, stages=[model_stage])\n"
     ]
    },
    {
     "name": "stdout",
     "output_type": "stream",
     "text": [
      "Model IrisClassifier is already in stage Production\n"
     ]
    }
   ],
   "source": [
    "model_name = \"IrisClassifier\"\n",
    "model_stage = \"Production\"\n",
    "print(\"MLflow Tracking URI:\", mlflow.get_tracking_uri())\n",
    "\n",
    "client = MlflowClient()\n",
    "\n",
    "try:\n",
    "    versions = client.get_latest_versions(model_name, stages=[model_stage])\n",
    "    if versions:\n",
    "        print(f\"Model {model_name} is already in stage {model_stage}\")\n",
    "    else:\n",
    "        print(f\"No versions of model with name '{model_name}' and stage '{model_stage}' found.\")\n",
    "        latest_version = client.get_latest_versions(model_name)[0].version\n",
    "        \n",
    "        client.transition_model_version_stage(\n",
    "            name=model_name,\n",
    "            version=latest_version,\n",
    "            stage=model_stage\n",
    "        )\n",
    "        print(f\"Model version {latest_version} has been moved to '{model_stage}' stage.\")\n",
    "\n",
    "except mlflow.exceptions.MlflowException as e:\n",
    "    print(f\"Error: {e}\")\n"
   ]
  },
  {
   "cell_type": "code",
   "execution_count": null,
   "metadata": {},
   "outputs": [],
   "source": []
  }
 ],
 "metadata": {
  "kernelspec": {
   "display_name": "base",
   "language": "python",
   "name": "python3"
  },
  "language_info": {
   "codemirror_mode": {
    "name": "ipython",
    "version": 3
   },
   "file_extension": ".py",
   "mimetype": "text/x-python",
   "name": "python",
   "nbconvert_exporter": "python",
   "pygments_lexer": "ipython3",
   "version": "3.12.7"
  }
 },
 "nbformat": 4,
 "nbformat_minor": 2
}
